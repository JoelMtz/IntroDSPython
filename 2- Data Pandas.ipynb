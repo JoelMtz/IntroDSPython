{
 "cells": [
  {
   "cell_type": "code",
   "execution_count": 1,
   "metadata": {},
   "outputs": [
    {
     "name": "stdout",
     "output_type": "stream",
     "text": [
      "2020-11-08T00:00:56+01:00\n",
      "\n",
      "CPython 3.7.1\n",
      "IPython 7.18.1\n",
      "\n",
      "compiler   : MSC v.1915 64 bit (AMD64)\n",
      "system     : Windows\n",
      "release    : 10\n",
      "machine    : AMD64\n",
      "processor  : AMD64 Family 23 Model 17 Stepping 0, AuthenticAMD\n",
      "CPU cores  : 8\n",
      "interpreter: 64bit\n"
     ]
    }
   ],
   "source": [
    "%load_ext watermark\n",
    "%watermark"
   ]
  },
  {
   "cell_type": "code",
   "execution_count": 45,
   "metadata": {},
   "outputs": [],
   "source": [
    "# Import pandas under the alias pd\n",
    "import pandas as pd\n",
    "# es importante tenerlo en la misma carpeta o saber la ubicación del archivo\n",
    "# Load the CSV \"credit_records.csv\"\n",
    "# tuvimos que agregar sep y los nombres\n",
    "credit_records = pd.read_csv('credit_records.csv', sep = ';',names=['Index','Suspect', 'location', 'Date', 'Item', 'price'])"
   ]
  },
  {
   "cell_type": "code",
   "execution_count": 46,
   "metadata": {},
   "outputs": [
    {
     "name": "stdout",
     "output_type": "stream",
     "text": [
      "    Index               Suspect         location         Date          Item  \\\n",
      "0       0        Kirstine Smith   Groceries R Us   January 6,      broccoli   \n",
      "1       1          Gertrude Cox  Petroleum Plaza   January 6,   fizzy drink   \n",
      "2       2      Fred Frequentist   Groceries R Us   January 6,      broccoli   \n",
      "3       3          Gertrude Cox   Groceries R Us  January 12,      broccoli   \n",
      "4       4        Kirstine Smith    Clothing Club   January 9,         shirt   \n",
      "5       5          Gertrude Cox      Burger Mart  January 10,        burger   \n",
      "6       6      Fred Frequentist      Burger Mart   January 6,         fries   \n",
      "7       7  Ronald Aylmer Fisher    Clothing Club   January 8,         pants   \n",
      "8       8  Ronald Aylmer Fisher    Clothing Club  January 13,         shirt   \n",
      "9       9        Kirstine Smith    Clothing Club   January 1,         shirt   \n",
      "10     10        Kirstine Smith    Clothing Club   January 7,         pants   \n",
      "11     11          Gertrude Cox  Petroleum Plaza  January 14,   fizzy drink   \n",
      "12     12  Ronald Aylmer Fisher  Petroleum Plaza  January 10,       carwash   \n",
      "13     13      Fred Frequentist      Burger Mart   January 7,  cheeseburger   \n",
      "14     14          Gertrude Cox    Clothing Club   January 5,         pants   \n",
      "15     15          Gertrude Cox      Burger Mart   January 2,  cheeseburger   \n",
      "16     16          Gertrude Cox   Groceries R Us  January 11,      broccoli   \n",
      "17     17        Kirstine Smith  Petroleum Plaza  January 12,       carwash   \n",
      "18     18          Gertrude Cox  Petroleum Plaza  January 13,   fizzy drink   \n",
      "19     19      Fred Frequentist    Clothing Club   January 8,         shirt   \n",
      "20     20        Kirstine Smith  Petroleum Plaza  January 12,   fizzy drink   \n",
      "21     21      Fred Frequentist  Petroleum Plaza   January 8,       carwash   \n",
      "22     22  Ronald Aylmer Fisher   Groceries R Us  January 13,          eggs   \n",
      "23     23          Gertrude Cox      Burger Mart   January 9,        burger   \n",
      "24     24          Gertrude Cox      Burger Mart  January 14,  cheeseburger   \n",
      "25     25        Kirstine Smith   Groceries R Us   January 2,        cheese   \n",
      "26     26  Ronald Aylmer Fisher      Burger Mart   January 8,         fries   \n",
      "27     27          Gertrude Cox   Groceries R Us   January 8,        cheese   \n",
      "28     28      Fred Frequentist    Clothing Club   January 3,         dress   \n",
      "29     29        Kirstine Smith    Clothing Club   January 5,         dress   \n",
      "30     74      Fred Frequentist   Groceries R Us  January 11,        cheese   \n",
      "31     75          Gertrude Cox   Groceries R Us  January 14,          milk   \n",
      "32     76          Gertrude Cox    Clothing Club  January 10,         dress   \n",
      "33     77      Fred Frequentist      Burger Mart   January 8,  cheeseburger   \n",
      "34     78        Kirstine Smith    Clothing Club   January 7,         shirt   \n",
      "35     79        Kirstine Smith    Clothing Club  January 13,         pants   \n",
      "36     80  Ronald Aylmer Fisher    Clothing Club  January 13,         pants   \n",
      "37     81          Gertrude Cox   Groceries R Us  January 13,      broccoli   \n",
      "38     82  Ronald Aylmer Fisher    Clothing Club   January 6,         shirt   \n",
      "39     83  Ronald Aylmer Fisher      Burger Mart   January 2,         fries   \n",
      "40     84          Gertrude Cox    Clothing Club   January 5,         dress   \n",
      "41     85  Ronald Aylmer Fisher    Clothing Club   January 3,         pants   \n",
      "42     86      Fred Frequentist   Groceries R Us   January 3,          milk   \n",
      "43     87          Gertrude Cox  Petroleum Plaza   January 8,           gas   \n",
      "44     88  Ronald Aylmer Fisher      Burger Mart   January 8,         fries   \n",
      "45     89          Gertrude Cox  Petroleum Plaza   January 8,           gas   \n",
      "46     90      Fred Frequentist      Burger Mart   January 1,         fries   \n",
      "47     91          Gertrude Cox      Burger Mart   January 7,        burger   \n",
      "48     92      Fred Frequentist    Clothing Club   January 2,         pants   \n",
      "49     93  Ronald Aylmer Fisher   Groceries R Us  January 10,          milk   \n",
      "50     94  Ronald Aylmer Fisher  Petroleum Plaza   January 9,   fizzy drink   \n",
      "51     95        Kirstine Smith      Burger Mart   January 5,  cheeseburger   \n",
      "52     96          Gertrude Cox   Groceries R Us   January 8,     cucumbers   \n",
      "53     97          Gertrude Cox  Petroleum Plaza   January 8,   fizzy drink   \n",
      "54     98  Ronald Aylmer Fisher    Clothing Club  January 12,         pants   \n",
      "55     99          Gertrude Cox    Clothing Club   January 7,         shirt   \n",
      "56    100      Fred Frequentist    Clothing Club   January 4,         pants   \n",
      "57    101          Gertrude Cox    Clothing Club   January 9,         dress   \n",
      "58    102        Kirstine Smith      Burger Mart  January 14,        burger   \n",
      "59    103  Ronald Aylmer Fisher   Groceries R Us  January 11,     cucumbers   \n",
      "\n",
      "    price  \n",
      "0    1.25  \n",
      "1    1.90  \n",
      "2    1.25  \n",
      "3    1.25  \n",
      "4   14.25  \n",
      "5    3.95  \n",
      "6    1.95  \n",
      "7   12.05  \n",
      "8   14.25  \n",
      "9   14.25  \n",
      "10  12.05  \n",
      "11   1.90  \n",
      "12  13.25  \n",
      "13   4.95  \n",
      "14  12.05  \n",
      "15   4.95  \n",
      "16   1.25  \n",
      "17  13.25  \n",
      "18   1.90  \n",
      "19  14.25  \n",
      "20   1.90  \n",
      "21  13.25  \n",
      "22   6.50  \n",
      "23   3.95  \n",
      "24   4.95  \n",
      "25   5.00  \n",
      "26   1.95  \n",
      "27   5.00  \n",
      "28  20.15  \n",
      "29  20.15  \n",
      "30   5.00  \n",
      "31   4.25  \n",
      "32  20.15  \n",
      "33   4.95  \n",
      "34  14.25  \n",
      "35  12.05  \n",
      "36  12.05  \n",
      "37   1.25  \n",
      "38  14.25  \n",
      "39   1.95  \n",
      "40  20.15  \n",
      "41  12.05  \n",
      "42   4.25  \n",
      "43  24.95  \n",
      "44   1.95  \n",
      "45  24.95  \n",
      "46   1.95  \n",
      "47   3.95  \n",
      "48  12.05  \n",
      "49   4.25  \n",
      "50   1.90  \n",
      "51   4.95  \n",
      "52   2.05  \n",
      "53   1.90  \n",
      "54  12.05  \n",
      "55  14.25  \n",
      "56  12.05  \n",
      "57  20.15  \n",
      "58   3.95  \n",
      "59   2.05  \n"
     ]
    },
    {
     "data": {
      "text/plain": [
       "(60, 6)"
      ]
     },
     "execution_count": 46,
     "metadata": {},
     "output_type": "execute_result"
    }
   ],
   "source": [
    "# Display the first five rows of credit_records using the .head() method\n",
    "print(credit_records)\n",
    "credit_records.shape\n"
   ]
  },
  {
   "cell_type": "code",
   "execution_count": 29,
   "metadata": {},
   "outputs": [
    {
     "name": "stdout",
     "output_type": "stream",
     "text": [
      "<class 'pandas.core.frame.DataFrame'>\n",
      "Index: 61 entries, 0;Kirstine Smith;Groceries R Us;January 6 to 103;Ronald Aylmer Fisher;Groceries R Us;January 11\n",
      "Data columns (total 1 columns):\n",
      " #   Column                                                    Non-Null Count  Dtype \n",
      "---  ------                                                    --------------  ----- \n",
      " 0   ;\"\t\tsuspect        \"; location;date         ; item;price  60 non-null     object\n",
      "dtypes: object(1)\n",
      "memory usage: 976.0+ bytes\n",
      "None\n"
     ]
    }
   ],
   "source": [
    "#Use .info() to inspect the DataFrame credit_records\n",
    "print(credit_records.info())"
   ]
  },
  {
   "cell_type": "code",
   "execution_count": 51,
   "metadata": {},
   "outputs": [
    {
     "name": "stdout",
     "output_type": "stream",
     "text": [
      "0       broccoli\n",
      "1    fizzy drink\n",
      "2       broccoli\n",
      "3       broccoli\n",
      "4          shirt\n",
      "Name: Item, dtype: object\n"
     ]
    }
   ],
   "source": [
    "# Select the column item from credit_records\n",
    "# solo items\n",
    "# Use brackets and string notation\n",
    "items = credit_records[\"Item\"]\n",
    "\n",
    "# Display the results\n",
    "print(items.head())"
   ]
  },
  {
   "cell_type": "code",
   "execution_count": 50,
   "metadata": {},
   "outputs": [
    {
     "name": "stdout",
     "output_type": "stream",
     "text": [
      "0     Groceries R Us\n",
      "1    Petroleum Plaza\n",
      "2     Groceries R Us\n",
      "3     Groceries R Us\n",
      "4      Clothing Club\n",
      "Name: location, dtype: object\n"
     ]
    }
   ],
   "source": [
    "\n",
    "# Select the location column in credit_records\n",
    "location = credit_records[\"location\"]\n",
    "\n",
    "# Select the item column in credit_records\n",
    "items = credit_records.Item\n",
    "\n",
    "# Display results\n",
    "print(location.head())"
   ]
  },
  {
   "cell_type": "code",
   "execution_count": 55,
   "metadata": {},
   "outputs": [
    {
     "data": {
      "text/plain": [
       "0     January 6,\n",
       "1     January 6,\n",
       "2     January 6,\n",
       "3    January 12,\n",
       "4     January 9,\n",
       "Name: Date, dtype: object"
      ]
     },
     "execution_count": 55,
     "metadata": {},
     "output_type": "execute_result"
    }
   ],
   "source": [
    "# seleecionar una col =date\n",
    "# tener cuidado con las comillas y como se escriben\n",
    "fecha = credit_records['Date']\n",
    "fecha.head()"
   ]
  },
  {
   "cell_type": "code",
   "execution_count": 57,
   "metadata": {},
   "outputs": [
    {
     "name": "stdout",
     "output_type": "stream",
     "text": [
      "0     False\n",
      "1     False\n",
      "2     False\n",
      "3     False\n",
      "4     False\n",
      "5     False\n",
      "6     False\n",
      "7     False\n",
      "8     False\n",
      "9     False\n",
      "10    False\n",
      "11    False\n",
      "12    False\n",
      "13    False\n",
      "14    False\n",
      "15    False\n",
      "16    False\n",
      "17    False\n",
      "18    False\n",
      "19    False\n",
      "20    False\n",
      "21    False\n",
      "22    False\n",
      "23    False\n",
      "24    False\n",
      "25    False\n",
      "26    False\n",
      "27    False\n",
      "28    False\n",
      "29    False\n",
      "30    False\n",
      "31    False\n",
      "32    False\n",
      "33    False\n",
      "34    False\n",
      "35    False\n",
      "36    False\n",
      "37    False\n",
      "38    False\n",
      "39    False\n",
      "40    False\n",
      "41    False\n",
      "42    False\n",
      "43     True\n",
      "44    False\n",
      "45     True\n",
      "46    False\n",
      "47    False\n",
      "48    False\n",
      "49    False\n",
      "50    False\n",
      "51    False\n",
      "52    False\n",
      "53    False\n",
      "54    False\n",
      "55    False\n",
      "56    False\n",
      "57    False\n",
      "58    False\n",
      "59    False\n",
      "Name: price, dtype: bool\n"
     ]
    }
   ],
   "source": [
    "# los precios mayores de 22\n",
    "# debemos de poner primero la base de datos\n",
    "print(credit_records.price > 22)"
   ]
  },
  {
   "cell_type": "code",
   "execution_count": 60,
   "metadata": {},
   "outputs": [
    {
     "name": "stdout",
     "output_type": "stream",
     "text": [
      "0     False\n",
      "1     False\n",
      "2     False\n",
      "3     False\n",
      "4     False\n",
      "5     False\n",
      "6     False\n",
      "7     False\n",
      "8     False\n",
      "9     False\n",
      "10    False\n",
      "11    False\n",
      "12    False\n",
      "13    False\n",
      "14    False\n",
      "15    False\n",
      "16    False\n",
      "17    False\n",
      "18    False\n",
      "19    False\n",
      "20    False\n",
      "21    False\n",
      "22    False\n",
      "23    False\n",
      "24    False\n",
      "25    False\n",
      "26    False\n",
      "27    False\n",
      "28    False\n",
      "29    False\n",
      "30    False\n",
      "31    False\n",
      "32    False\n",
      "33    False\n",
      "34    False\n",
      "35    False\n",
      "36    False\n",
      "37    False\n",
      "38    False\n",
      "39    False\n",
      "40    False\n",
      "41    False\n",
      "42    False\n",
      "43    False\n",
      "44    False\n",
      "45    False\n",
      "46    False\n",
      "47    False\n",
      "48    False\n",
      "49    False\n",
      "50    False\n",
      "51    False\n",
      "52    False\n",
      "53    False\n",
      "54    False\n",
      "55    False\n",
      "56    False\n",
      "57    False\n",
      "58    False\n",
      "59    False\n",
      "Name: price, dtype: bool\n"
     ]
    }
   ],
   "source": [
    "# vamos a ver una variable que tenga este nombre\n",
    "# sera bool nos dara true\n",
    "print(credit_records.price == 'Clothing Club')\n"
   ]
  },
  {
   "cell_type": "code",
   "execution_count": null,
   "metadata": {},
   "outputs": [],
   "source": []
  }
 ],
 "metadata": {
  "kernelspec": {
   "display_name": "Python 3",
   "language": "python",
   "name": "python3"
  },
  "language_info": {
   "codemirror_mode": {
    "name": "ipython",
    "version": 3
   },
   "file_extension": ".py",
   "mimetype": "text/x-python",
   "name": "python",
   "nbconvert_exporter": "python",
   "pygments_lexer": "ipython3",
   "version": "3.7.1"
  }
 },
 "nbformat": 4,
 "nbformat_minor": 4
}
