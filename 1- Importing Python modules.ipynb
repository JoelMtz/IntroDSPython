{
 "cells": [
  {
   "cell_type": "code",
   "execution_count": 1,
   "metadata": {},
   "outputs": [
    {
     "name": "stdout",
     "output_type": "stream",
     "text": [
      "2020-11-07T15:20:26+01:00\n",
      "\n",
      "CPython 3.7.1\n",
      "IPython 7.18.1\n",
      "\n",
      "compiler   : MSC v.1915 64 bit (AMD64)\n",
      "system     : Windows\n",
      "release    : 10\n",
      "machine    : AMD64\n",
      "processor  : AMD64 Family 23 Model 17 Stepping 0, AuthenticAMD\n",
      "CPU cores  : 8\n",
      "interpreter: 64bit\n"
     ]
    }
   ],
   "source": [
    "%load_ext watermark\n",
    "%watermark"
   ]
  },
  {
   "cell_type": "code",
   "execution_count": 4,
   "metadata": {},
   "outputs": [],
   "source": [
    "# Import statsmodels under the alias sm\n",
    "import statsmodels as sm"
   ]
  },
  {
   "cell_type": "code",
   "execution_count": 5,
   "metadata": {},
   "outputs": [],
   "source": [
    "# Use an import statement to import seaborn with alias sns\n",
    "import seaborn as sns"
   ]
  },
  {
   "cell_type": "markdown",
   "metadata": {},
   "source": [
    "### Load a DataFrame"
   ]
  },
  {
   "cell_type": "code",
   "execution_count": 9,
   "metadata": {},
   "outputs": [
    {
     "name": "stdout",
     "output_type": "stream",
     "text": [
      "   ;letter_index;letter;frequency\n",
      "0                      0;1;A;7.38\n",
      "1                      1;2;B;1.09\n",
      "2                      2;3;C;2.46\n",
      "3                      3;4;D;4.10\n",
      "4                     4;5;E;12.84\n",
      "5                      5;6;F;1.37\n",
      "6                      6;7;G;1.09\n",
      "7                      7;8;H;3.55\n",
      "8                      8;9;I;7.65\n",
      "9                     9;10;J;0.00\n",
      "10                   10;11;K;3.01\n",
      "11                   11;12;L;3.28\n",
      "12                   12;13;M;2.46\n",
      "13                   13;14;N;7.38\n",
      "14                   14;15;O;6.83\n",
      "15                   15;16;P;7.65\n",
      "16                   16;17;Q;0.00\n",
      "17                   17;18;R;4.92\n",
      "18                   18;19;S;4.10\n",
      "19                   19;20;T;6.28\n",
      "20                   20;21;U;4.37\n",
      "21                   21;22;V;1.09\n",
      "22                   22;23;W;2.46\n",
      "23                   23;24;X;0.00\n",
      "24                   24;25;Y;4.64\n",
      "25                   25;26;Z;0.00\n"
     ]
    }
   ],
   "source": [
    "# Import pandas\n",
    "import pandas as pd\n",
    "\n",
    "# Load the 'ransom.csv' into a DataFrame\n",
    "r = pd.read_csv('ransom.csv')\n",
    "\n",
    "# Display DataFrame\n",
    "print(r)"
   ]
  },
  {
   "cell_type": "code",
   "execution_count": null,
   "metadata": {},
   "outputs": [],
   "source": []
  }
 ],
 "metadata": {
  "kernelspec": {
   "display_name": "Python 3",
   "language": "python",
   "name": "python3"
  },
  "language_info": {
   "codemirror_mode": {
    "name": "ipython",
    "version": 3
   },
   "file_extension": ".py",
   "mimetype": "text/x-python",
   "name": "python",
   "nbconvert_exporter": "python",
   "pygments_lexer": "ipython3",
   "version": "3.7.1"
  }
 },
 "nbformat": 4,
 "nbformat_minor": 4
}
